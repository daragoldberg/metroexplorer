{
 "cells": [
  {
   "cell_type": "code",
   "execution_count": null,
   "metadata": {},
   "outputs": [],
   "source": [
    "import pandas as pd\n",
    "import json\n",
    "import requests"
   ]
  },
  {
   "cell_type": "code",
   "execution_count": null,
   "metadata": {},
   "outputs": [],
   "source": [
    "from config import BEA_API\n",
    "from county_codes import stco_fips"
   ]
  },
  {
   "cell_type": "code",
   "execution_count": null,
   "metadata": {},
   "outputs": [],
   "source": [
    "base_url = f'https://apps.bea.gov/api/data/?UserID={BEA_API}'"
   ]
  },
  {
   "cell_type": "markdown",
   "metadata": {},
   "source": [
    "### User variables"
   ]
  },
  {
   "cell_type": "code",
   "execution_count": null,
   "metadata": {},
   "outputs": [],
   "source": [
    "#Start & end years\n",
    "year1 = '2018'\n",
    "year0 = '2008'\n",
    "years = f'{year0},{year1}'\n",
    "\n",
    "#Nominal GDP for total GDP in 2018\n",
    "nomGDP = 'CAGDP1'\n",
    "nomGDP_lc = '3'\n",
    "\n",
    "#Real GDP - 2012-chained GDP for change calcs\n",
    "realGDP = 'CAGDP9'\n",
    "realGDP_lc = '1'\n",
    "\n",
    "geo = 'COUNTY'"
   ]
  },
  {
   "cell_type": "markdown",
   "metadata": {},
   "source": [
    "#### Get Parameter Values for Regional Dataset (table IDs)"
   ]
  },
  {
   "cell_type": "code",
   "execution_count": null,
   "metadata": {
    "scrolled": true
   },
   "outputs": [],
   "source": [
    "#Get data from specific table\n",
    "def get_data(tablename,linecode,geofips,year):    \n",
    "    url = f'{base_url}&method=GetData&datasetname=Regional&TableName={tablename}&LineCode={linecode}&GeoFIPS={geofips}&Year={year}'\n",
    "    resp = requests.get(url).json()\n",
    "    df = pd.DataFrame(resp['BEAAPI']['Results']['Data'])\n",
    "    df = df[df['GeoFips'].isin(stco_fips)]\n",
    "    return df\n",
    "\n",
    "def var_cal(df):\n",
    "    df['GDPrY0Y1'] = df[year1] - df[year0]\n",
    "    df['GDPprY0Y1'] = ((df[year1]/df[year0])**(1/(int(year1)-int(year0))))-1\n",
    "    return df\n",
    "\n",
    "def clean_table(df):\n",
    "    dff = df.drop(columns=[year0,year1]).rename(columns={'DataValue':'GDPY1'})\n",
    "    for column_name in dff:\n",
    "        dff.rename(columns={column_name:column_name.replace('Y0',year0[2:]).replace('Y1',year1[2:])},inplace=True)\n",
    "    return dff"
   ]
  },
  {
   "cell_type": "markdown",
   "metadata": {},
   "source": [
    "### County Table"
   ]
  },
  {
   "cell_type": "code",
   "execution_count": null,
   "metadata": {},
   "outputs": [],
   "source": [
    "#Get nominal GDP for Year 1 (Current Year)\n",
    "df_nom = get_data(nomGDP,nomGDP_lc,geo,year1)"
   ]
  },
  {
   "cell_type": "code",
   "execution_count": null,
   "metadata": {},
   "outputs": [],
   "source": [
    "#Get real GDP to calculate change (Current - Init Year)\n",
    "df_real = get_data(realGDP,realGDP_lc,geo,years)\n",
    "df_real = df_real.pivot(index='GeoFips',columns='TimePeriod',values='DataValue')"
   ]
  },
  {
   "cell_type": "code",
   "execution_count": null,
   "metadata": {},
   "outputs": [],
   "source": [
    "#Merge nominal and real gdp\n",
    "gdp = pd.merge(df_real,df_nom,how='left',on='GeoFips').drop(columns=['CL_UNIT','Code','NoteRef','TimePeriod','GeoName','UNIT_MULT'],axis=1)"
   ]
  },
  {
   "cell_type": "code",
   "execution_count": null,
   "metadata": {},
   "outputs": [],
   "source": [
    "#Clean data,\n",
    "col = [year0,year1,'DataValue']\n",
    "for i in col:\n",
    "    gdp[i] = gdp[i].str.replace(',','').astype(float)\n",
    "    gdp[i] = gdp[i]*1000"
   ]
  },
  {
   "cell_type": "code",
   "execution_count": null,
   "metadata": {
    "scrolled": true
   },
   "outputs": [],
   "source": [
    "gdp = var_cal(gdp)"
   ]
  },
  {
   "cell_type": "code",
   "execution_count": null,
   "metadata": {},
   "outputs": [],
   "source": [
    "gdp"
   ]
  },
  {
   "cell_type": "markdown",
   "metadata": {},
   "source": [
    "### Intermediate County Table - GDP"
   ]
  },
  {
   "cell_type": "code",
   "execution_count": null,
   "metadata": {
    "scrolled": true
   },
   "outputs": [],
   "source": [
    "co_gdp = clean_table(gdp)"
   ]
  },
  {
   "cell_type": "code",
   "execution_count": null,
   "metadata": {},
   "outputs": [],
   "source": [
    "co_gdp = co_gdp.rename(columns={'GeoFips':'GEO_ID'})\n",
    "co_gdp"
   ]
  },
  {
   "cell_type": "code",
   "execution_count": null,
   "metadata": {},
   "outputs": [],
   "source": [
    "#to csv\n",
    "co_gdp.to_csv('../output/county/co_gdp.csv')"
   ]
  },
  {
   "cell_type": "markdown",
   "metadata": {},
   "source": [
    "### Make Subregion and Region Tables"
   ]
  },
  {
   "cell_type": "code",
   "execution_count": null,
   "metadata": {},
   "outputs": [],
   "source": [
    "#Read in geography cross-walk file & clean id column for join\n",
    "geo_xwalk = pd.read_excel('../data/31CR_CoxSub.xlsx')\n",
    "geo_xwalk['stco'] = geo_xwalk['stco'].apply(lambda x: '{0:0>5}'.format(x))\n",
    "geo_xwalk.head()"
   ]
  },
  {
   "cell_type": "code",
   "execution_count": null,
   "metadata": {},
   "outputs": [],
   "source": [
    "#Merge xwalk file to reduce to region counties only & drop unneeded identifiers\n",
    "df = pd.merge(gdp,geo_xwalk,how='left',left_on=['GeoFips'],right_on=['stco']).drop(columns=['st','co','stco_int','stco','stco_lbl','co_lbl','GDPrY0Y1','GDPprY0Y1'])\n",
    "df.head()"
   ]
  },
  {
   "cell_type": "markdown",
   "metadata": {},
   "source": [
    "#### Subregion"
   ]
  },
  {
   "cell_type": "code",
   "execution_count": null,
   "metadata": {},
   "outputs": [],
   "source": [
    "sub_gdp = df.drop(columns=['reg','GeoFips']).groupby(['subreg']).sum()"
   ]
  },
  {
   "cell_type": "code",
   "execution_count": null,
   "metadata": {},
   "outputs": [],
   "source": [
    "sub_gdp = var_cal(sub_gdp)\n",
    "sub_gdp = clean_table(sub_gdp)\n",
    "sub_gdp"
   ]
  },
  {
   "cell_type": "code",
   "execution_count": null,
   "metadata": {},
   "outputs": [],
   "source": [
    "#to csv\n",
    "sub_gdp.to_csv('../output/subregion/sub_gdp.csv')"
   ]
  },
  {
   "cell_type": "markdown",
   "metadata": {},
   "source": [
    "#### Region"
   ]
  },
  {
   "cell_type": "code",
   "execution_count": null,
   "metadata": {},
   "outputs": [],
   "source": [
    "reg_gdp = df.drop(columns=['subreg','GeoFips']).groupby(['reg']).sum()"
   ]
  },
  {
   "cell_type": "code",
   "execution_count": null,
   "metadata": {},
   "outputs": [],
   "source": [
    "reg_gdp = var_cal(reg_gdp)\n",
    "reg_gdp = clean_table(reg_gdp)\n",
    "reg_gdp"
   ]
  },
  {
   "cell_type": "code",
   "execution_count": null,
   "metadata": {},
   "outputs": [],
   "source": [
    "#to csv\n",
    "reg_gdp.to_csv('../output/region/reg_gdp.csv')"
   ]
  }
 ],
 "metadata": {
  "kernelspec": {
   "display_name": "Python 3",
   "language": "python",
   "name": "python3"
  },
  "language_info": {
   "codemirror_mode": {
    "name": "ipython",
    "version": 3
   },
   "file_extension": ".py",
   "mimetype": "text/x-python",
   "name": "python",
   "nbconvert_exporter": "python",
   "pygments_lexer": "ipython3",
   "version": "3.7.0"
  }
 },
 "nbformat": 4,
 "nbformat_minor": 2
}
