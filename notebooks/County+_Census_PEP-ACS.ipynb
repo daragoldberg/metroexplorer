{
 "cells": [
  {
   "cell_type": "code",
   "execution_count": 1,
   "metadata": {},
   "outputs": [],
   "source": [
    "import pandas as pd\n",
    "import json\n",
    "import requests\n",
    "import math\n",
    "import numpy as np"
   ]
  },
  {
   "cell_type": "code",
   "execution_count": 3,
   "metadata": {},
   "outputs": [],
   "source": [
    "from config import Cen_API"
   ]
  },
  {
   "cell_type": "code",
   "execution_count": 4,
   "metadata": {},
   "outputs": [],
   "source": [
    "#from API_keys import myCenAPI\n",
    "import utilcalcs as calc\n",
    "import geo_agg as geo\n",
    "from county_codes import PEP_DATE_CODE,stco"
   ]
  },
  {
   "cell_type": "markdown",
   "metadata": {},
   "source": [
    "## User-defined parameters"
   ]
  },
  {
   "cell_type": "code",
   "execution_count": 5,
   "metadata": {},
   "outputs": [],
   "source": [
    "#Variables and predicates for both start/end years\n",
    "acs5 = 'acs5'\n",
    "acs1 = 'acs1'\n",
    "\n",
    "col_1_d = f'group(DP04)'\n",
    "col_5_b = f'group(B23001)'\n",
    "col_5_d = f'GEO_ID,DP02_0092E,DP02_0092M,DP03_0002E,DP03_0002M,DP05_0001E,DP05_0001M'\n",
    "\n",
    "year1 = '2018'\n",
    "year0 = '2010'"
   ]
  },
  {
   "cell_type": "markdown",
   "metadata": {},
   "source": [
    "### Data download functions for PEP and ACS"
   ]
  },
  {
   "cell_type": "code",
   "execution_count": 8,
   "metadata": {},
   "outputs": [],
   "source": [
    "def get_pep(year1,year0):\n",
    "    cols = f'GEO_ID,DATE_CODE,POP'\n",
    "    url = f'https://api.census.gov/data/{year1}/pep/population?get={cols}&for=county:*&in=state:*&key={myCenAPI}'\n",
    "    resp = requests.request('GET', url).content\n",
    "    df = pd.DataFrame(json.loads(resp)[1:])\n",
    "    df.columns = json.loads(resp)[0]\n",
    "    \n",
    "    df['POP'] = df['POP'].astype(float)\n",
    "    dff = df.pivot(index='GEO_ID',columns='DATE_CODE',values='POP')\n",
    "    dff = dff.reset_index(level='GEO_ID',col_level=0)\n",
    "    dff = dff[['GEO_ID',PEP_DATE_CODE[year0],PEP_DATE_CODE[year1]]]\n",
    "    dff = dff.rename(columns={PEP_DATE_CODE[year0]:'PopTot_Y0E',PEP_DATE_CODE[year1]:'PopTot_Y1E'})\n",
    "    \n",
    "    dff = dff[dff['GEO_ID'].isin(stco)]\n",
    "    dff['PopTot_Y0Y1E'] = dff.PopTot_Y1E - dff.PopTot_Y0E\n",
    "    dff['PopP_Y0Y1E'] = dff.PopTot_Y0Y1E / dff.PopTot_Y0E\n",
    "    \n",
    "    return dff\n",
    "\n",
    "def get_acs(year,acs_source,**cols):\n",
    "    for x in cols:\n",
    "        if x == 'b':\n",
    "            url_b = f\"https://api.census.gov/data/{year}/acs/{acs_source}?get={cols['b']}&for=county:*&in=state:*&key={myCenAPI}\"\n",
    "            resp_b = requests.request('GET', url_b).content\n",
    "            df_b = pd.DataFrame(json.loads(resp_b)[1:])\n",
    "            df_b.columns = json.loads(resp_b)[0]\n",
    "        elif x == 'd':\n",
    "            url_d = f\"https://api.census.gov/data/{year}/acs/{acs_source}/profile?get={cols['d']}&for=county:*&in=state:*&key={myCenAPI}\"\n",
    "            resp_d = requests.request('GET', url_d).content\n",
    "            df_d = pd.DataFrame(json.loads(resp_d)[1:])\n",
    "            df_d.columns = json.loads(resp_d)[0]\n",
    "        else:\n",
    "            pass\n",
    "    \n",
    "    if 'b' in cols and 'd' in cols:\n",
    "        df = pd.merge(df_b,df_d,how='left',on='GEO_ID')\n",
    "        df = df[df['GEO_ID'].isin(stco)]\n",
    "        return df\n",
    "    elif 'b' in cols and 'd' not in cols:\n",
    "        df_b = df_b[df_b['GEO_ID'].isin(stco)]\n",
    "        return df_b\n",
    "    else:\n",
    "        df_d = df_d[df_d['GEO_ID'].isin(stco)]\n",
    "        return df_d\n",
    "        \n",
    "    \n",
    "def clean_data(df,var):\n",
    "    dff = df[var].copy()\n",
    "    var_num = var[1:]\n",
    "    for col in var_num:\n",
    "        dff[col] = dff[col].astype(float)\n",
    "    dff = dff.replace([999999999, 555555555, 333333333, 222222222,\\\n",
    "                    666666666, 888888888, -999999999, -555555555,\\\n",
    "                    -333333333, -222222222, -666666666, -888888888], np.nan)\n",
    "    return dff"
   ]
  },
  {
   "cell_type": "markdown",
   "metadata": {},
   "source": [
    "## Population Estimates Program - estimates"
   ]
  },
  {
   "cell_type": "code",
   "execution_count": 11,
   "metadata": {},
   "outputs": [
    {
     "name": "stdout",
     "output_type": "stream",
     "text": [
      "None\n"
     ]
    }
   ],
   "source": [
    "print(myCenAPI)"
   ]
  },
  {
   "cell_type": "code",
   "execution_count": 9,
   "metadata": {},
   "outputs": [
    {
     "ename": "JSONDecodeError",
     "evalue": "Expecting value: line 2 column 1 (char 1)",
     "output_type": "error",
     "traceback": [
      "\u001b[0;31m---------------------------------------------------------------------------\u001b[0m",
      "\u001b[0;31mJSONDecodeError\u001b[0m                           Traceback (most recent call last)",
      "\u001b[0;32m<ipython-input-9-111b420ff8cc>\u001b[0m in \u001b[0;36m<module>\u001b[0;34m()\u001b[0m\n\u001b[0;32m----> 1\u001b[0;31m \u001b[0mdf_pep\u001b[0m \u001b[0;34m=\u001b[0m \u001b[0mget_pep\u001b[0m\u001b[0;34m(\u001b[0m\u001b[0myear1\u001b[0m\u001b[0;34m,\u001b[0m\u001b[0myear0\u001b[0m\u001b[0;34m)\u001b[0m\u001b[0;34m\u001b[0m\u001b[0m\n\u001b[0m",
      "\u001b[0;32m<ipython-input-8-58136d857078>\u001b[0m in \u001b[0;36mget_pep\u001b[0;34m(year1, year0)\u001b[0m\n\u001b[1;32m      3\u001b[0m     \u001b[0murl\u001b[0m \u001b[0;34m=\u001b[0m \u001b[0;34mf'https://api.census.gov/data/{year1}/pep/population?get={cols}&for=county:*&in=state:*&key={myCenAPI}'\u001b[0m\u001b[0;34m\u001b[0m\u001b[0m\n\u001b[1;32m      4\u001b[0m     \u001b[0mresp\u001b[0m \u001b[0;34m=\u001b[0m \u001b[0mrequests\u001b[0m\u001b[0;34m.\u001b[0m\u001b[0mrequest\u001b[0m\u001b[0;34m(\u001b[0m\u001b[0;34m'GET'\u001b[0m\u001b[0;34m,\u001b[0m \u001b[0murl\u001b[0m\u001b[0;34m)\u001b[0m\u001b[0;34m.\u001b[0m\u001b[0mcontent\u001b[0m\u001b[0;34m\u001b[0m\u001b[0m\n\u001b[0;32m----> 5\u001b[0;31m     \u001b[0mdf\u001b[0m \u001b[0;34m=\u001b[0m \u001b[0mpd\u001b[0m\u001b[0;34m.\u001b[0m\u001b[0mDataFrame\u001b[0m\u001b[0;34m(\u001b[0m\u001b[0mjson\u001b[0m\u001b[0;34m.\u001b[0m\u001b[0mloads\u001b[0m\u001b[0;34m(\u001b[0m\u001b[0mresp\u001b[0m\u001b[0;34m)\u001b[0m\u001b[0;34m[\u001b[0m\u001b[0;36m1\u001b[0m\u001b[0;34m:\u001b[0m\u001b[0;34m]\u001b[0m\u001b[0;34m)\u001b[0m\u001b[0;34m\u001b[0m\u001b[0m\n\u001b[0m\u001b[1;32m      6\u001b[0m     \u001b[0mdf\u001b[0m\u001b[0;34m.\u001b[0m\u001b[0mcolumns\u001b[0m \u001b[0;34m=\u001b[0m \u001b[0mjson\u001b[0m\u001b[0;34m.\u001b[0m\u001b[0mloads\u001b[0m\u001b[0;34m(\u001b[0m\u001b[0mresp\u001b[0m\u001b[0;34m)\u001b[0m\u001b[0;34m[\u001b[0m\u001b[0;36m0\u001b[0m\u001b[0;34m]\u001b[0m\u001b[0;34m\u001b[0m\u001b[0m\n\u001b[1;32m      7\u001b[0m \u001b[0;34m\u001b[0m\u001b[0m\n",
      "\u001b[0;32m/anaconda3/lib/python3.7/json/__init__.py\u001b[0m in \u001b[0;36mloads\u001b[0;34m(s, encoding, cls, object_hook, parse_float, parse_int, parse_constant, object_pairs_hook, **kw)\u001b[0m\n\u001b[1;32m    346\u001b[0m             \u001b[0mparse_int\u001b[0m \u001b[0;32mis\u001b[0m \u001b[0;32mNone\u001b[0m \u001b[0;32mand\u001b[0m \u001b[0mparse_float\u001b[0m \u001b[0;32mis\u001b[0m \u001b[0;32mNone\u001b[0m \u001b[0;32mand\u001b[0m\u001b[0;34m\u001b[0m\u001b[0m\n\u001b[1;32m    347\u001b[0m             parse_constant is None and object_pairs_hook is None and not kw):\n\u001b[0;32m--> 348\u001b[0;31m         \u001b[0;32mreturn\u001b[0m \u001b[0m_default_decoder\u001b[0m\u001b[0;34m.\u001b[0m\u001b[0mdecode\u001b[0m\u001b[0;34m(\u001b[0m\u001b[0ms\u001b[0m\u001b[0;34m)\u001b[0m\u001b[0;34m\u001b[0m\u001b[0m\n\u001b[0m\u001b[1;32m    349\u001b[0m     \u001b[0;32mif\u001b[0m \u001b[0mcls\u001b[0m \u001b[0;32mis\u001b[0m \u001b[0;32mNone\u001b[0m\u001b[0;34m:\u001b[0m\u001b[0;34m\u001b[0m\u001b[0m\n\u001b[1;32m    350\u001b[0m         \u001b[0mcls\u001b[0m \u001b[0;34m=\u001b[0m \u001b[0mJSONDecoder\u001b[0m\u001b[0;34m\u001b[0m\u001b[0m\n",
      "\u001b[0;32m/anaconda3/lib/python3.7/json/decoder.py\u001b[0m in \u001b[0;36mdecode\u001b[0;34m(self, s, _w)\u001b[0m\n\u001b[1;32m    335\u001b[0m \u001b[0;34m\u001b[0m\u001b[0m\n\u001b[1;32m    336\u001b[0m         \"\"\"\n\u001b[0;32m--> 337\u001b[0;31m         \u001b[0mobj\u001b[0m\u001b[0;34m,\u001b[0m \u001b[0mend\u001b[0m \u001b[0;34m=\u001b[0m \u001b[0mself\u001b[0m\u001b[0;34m.\u001b[0m\u001b[0mraw_decode\u001b[0m\u001b[0;34m(\u001b[0m\u001b[0ms\u001b[0m\u001b[0;34m,\u001b[0m \u001b[0midx\u001b[0m\u001b[0;34m=\u001b[0m\u001b[0m_w\u001b[0m\u001b[0;34m(\u001b[0m\u001b[0ms\u001b[0m\u001b[0;34m,\u001b[0m \u001b[0;36m0\u001b[0m\u001b[0;34m)\u001b[0m\u001b[0;34m.\u001b[0m\u001b[0mend\u001b[0m\u001b[0;34m(\u001b[0m\u001b[0;34m)\u001b[0m\u001b[0;34m)\u001b[0m\u001b[0;34m\u001b[0m\u001b[0m\n\u001b[0m\u001b[1;32m    338\u001b[0m         \u001b[0mend\u001b[0m \u001b[0;34m=\u001b[0m \u001b[0m_w\u001b[0m\u001b[0;34m(\u001b[0m\u001b[0ms\u001b[0m\u001b[0;34m,\u001b[0m \u001b[0mend\u001b[0m\u001b[0;34m)\u001b[0m\u001b[0;34m.\u001b[0m\u001b[0mend\u001b[0m\u001b[0;34m(\u001b[0m\u001b[0;34m)\u001b[0m\u001b[0;34m\u001b[0m\u001b[0m\n\u001b[1;32m    339\u001b[0m         \u001b[0;32mif\u001b[0m \u001b[0mend\u001b[0m \u001b[0;34m!=\u001b[0m \u001b[0mlen\u001b[0m\u001b[0;34m(\u001b[0m\u001b[0ms\u001b[0m\u001b[0;34m)\u001b[0m\u001b[0;34m:\u001b[0m\u001b[0;34m\u001b[0m\u001b[0m\n",
      "\u001b[0;32m/anaconda3/lib/python3.7/json/decoder.py\u001b[0m in \u001b[0;36mraw_decode\u001b[0;34m(self, s, idx)\u001b[0m\n\u001b[1;32m    353\u001b[0m             \u001b[0mobj\u001b[0m\u001b[0;34m,\u001b[0m \u001b[0mend\u001b[0m \u001b[0;34m=\u001b[0m \u001b[0mself\u001b[0m\u001b[0;34m.\u001b[0m\u001b[0mscan_once\u001b[0m\u001b[0;34m(\u001b[0m\u001b[0ms\u001b[0m\u001b[0;34m,\u001b[0m \u001b[0midx\u001b[0m\u001b[0;34m)\u001b[0m\u001b[0;34m\u001b[0m\u001b[0m\n\u001b[1;32m    354\u001b[0m         \u001b[0;32mexcept\u001b[0m \u001b[0mStopIteration\u001b[0m \u001b[0;32mas\u001b[0m \u001b[0merr\u001b[0m\u001b[0;34m:\u001b[0m\u001b[0;34m\u001b[0m\u001b[0m\n\u001b[0;32m--> 355\u001b[0;31m             \u001b[0;32mraise\u001b[0m \u001b[0mJSONDecodeError\u001b[0m\u001b[0;34m(\u001b[0m\u001b[0;34m\"Expecting value\"\u001b[0m\u001b[0;34m,\u001b[0m \u001b[0ms\u001b[0m\u001b[0;34m,\u001b[0m \u001b[0merr\u001b[0m\u001b[0;34m.\u001b[0m\u001b[0mvalue\u001b[0m\u001b[0;34m)\u001b[0m \u001b[0;32mfrom\u001b[0m \u001b[0;32mNone\u001b[0m\u001b[0;34m\u001b[0m\u001b[0m\n\u001b[0m\u001b[1;32m    356\u001b[0m         \u001b[0;32mreturn\u001b[0m \u001b[0mobj\u001b[0m\u001b[0;34m,\u001b[0m \u001b[0mend\u001b[0m\u001b[0;34m\u001b[0m\u001b[0m\n",
      "\u001b[0;31mJSONDecodeError\u001b[0m: Expecting value: line 2 column 1 (char 1)"
     ]
    }
   ],
   "source": [
    "df_pep = get_pep(year1,year0)"
   ]
  },
  {
   "cell_type": "code",
   "execution_count": null,
   "metadata": {
    "scrolled": true
   },
   "outputs": [],
   "source": [
    "df_pep.head()"
   ]
  },
  {
   "cell_type": "code",
   "execution_count": null,
   "metadata": {},
   "outputs": [],
   "source": [
    "df_pep.shape"
   ]
  },
  {
   "cell_type": "code",
   "execution_count": null,
   "metadata": {},
   "outputs": [],
   "source": [
    "#pep.to_csv(\"pep_test.csv\") - for QA"
   ]
  },
  {
   "cell_type": "markdown",
   "metadata": {},
   "source": [
    "## ACS Data Download"
   ]
  },
  {
   "cell_type": "markdown",
   "metadata": {},
   "source": [
    "### Variables"
   ]
  },
  {
   "cell_type": "code",
   "execution_count": null,
   "metadata": {},
   "outputs": [],
   "source": [
    "#FTotal Population - for calculation of foreign-born share\n",
    "PopTot = ['DP05_0001E','DP05_0001M']\n",
    "\n",
    "#Foreign-Born Population - for calculation\n",
    "PopFB = ['DP02_0092E','DP02_0092M']\n",
    "\n",
    "#Tot Labor Force - to rename\n",
    "LFTot = ['DP03_0002E','DP03_0002M']\n",
    "\n",
    "#Age 25 to 54 in Labor Force - to caluclate\n",
    "LF2554E = ['B23001_025E','B23001_032E','B23001_111E','B23001_118E','B23001_039E','B23001_125E','B23001_046E','B23001_132E']\n",
    "LF2554M = ['B23001_025M','B23001_032M','B23001_111M','B23001_118M','B23001_039M','B23001_125M','B23001_046M','B23001_132M']\n",
    "\n",
    "#Age 65+ in Labor Force - to calculate\n",
    "LFO65E = ['B23001_074E','B23001_079E','B23001_084E','B23001_160E','B23001_165E','B23001_170E']\n",
    "LFO65M = ['B23001_074M','B23001_079M','B23001_084M','B23001_160M','B23001_165M','B23001_170M']\n",
    "\n",
    "#Total Housing Units - to rename\n",
    "HouTot = ['DP04_0001E','DP04_0001M']\n",
    "\n",
    "#Total Housing Units by Owner vs. Renter - to rename\n",
    "HouO = ['DP04_0046E','DP04_0046M']\n",
    "HouR = ['DP04_0047E','DP04_0047M']\n",
    "HouV = ['DP04_0003E','DP04_0003M']\n",
    "\n",
    "#Total Housing Units by Building Size - to calculate\n",
    "Hou1UE = ['DP04_0007E','DP04_0008E']\n",
    "Hou1UM = ['DP04_0007M','DP04_0008M']\n",
    "Hou24UE = ['DP04_0009E','DP04_0010E']\n",
    "Hou24UM = ['DP04_0009M','DP04_0010M']\n",
    "Hou5UE = ['DP04_0011E','DP04_0012E','DP04_0013E']\n",
    "Hou5UM = ['DP04_0011M','DP04_0012M','DP04_0013M']\n",
    "\n",
    "HouU = Hou1UE + Hou1UM + Hou24UE + Hou24UM + Hou5UE + Hou5UM\n",
    "\n",
    "#List of all variables used for calculation + total labor force variables - replace the total pop 16+ variables\n",
    "var_data_Y1 = ['GEO_ID'] + PopTot + PopFB + LFTot + LF2554E + LF2554M + LFO65E + LFO65M + HouTot + HouO + HouR + HouV + HouU \n",
    "var_data_Y0 = ['GEO_ID'] + LFTot + LF2554E + LF2554M + LFO65E + LFO65M "
   ]
  },
  {
   "cell_type": "markdown",
   "metadata": {},
   "source": [
    "## ACS Current [End] Year (Year 1)"
   ]
  },
  {
   "cell_type": "code",
   "execution_count": null,
   "metadata": {
    "scrolled": true
   },
   "outputs": [],
   "source": [
    "co_5 = get_acs(year1,acs5,b=col_5_b,d=col_5_d,)\n",
    "co_5.head()"
   ]
  },
  {
   "cell_type": "code",
   "execution_count": null,
   "metadata": {
    "scrolled": true
   },
   "outputs": [],
   "source": [
    "co_1 = get_acs(year1,acs1,d=col_1_d)\n",
    "co_1.head()"
   ]
  },
  {
   "cell_type": "code",
   "execution_count": null,
   "metadata": {},
   "outputs": [],
   "source": [
    "dfY1 = pd.merge(co_5,co_1,how='left',on='GEO_ID')\n",
    "dfY1 = clean_data(dfY1,var_data_Y1)"
   ]
  },
  {
   "cell_type": "code",
   "execution_count": null,
   "metadata": {},
   "outputs": [],
   "source": [
    "dfY1.head()"
   ]
  },
  {
   "cell_type": "code",
   "execution_count": null,
   "metadata": {},
   "outputs": [],
   "source": [
    "#Year 1 (Current Year) ACS calculations\n",
    "#Foreign-born Population - calc & rename\n",
    "dfY1['PopFB_Y1E'] = dfY1['DP02_0092E'] #check that this variable is total FB and not total pop\n",
    "dfY1['PopFB_Y1M'] = dfY1['DP02_0092M']\n",
    "dfY1['PopFB_Y1C'] = dfY1.apply(lambda x: (calc.get_cv(x['PopFB_Y1E'],x['PopFB_Y1M'])),axis=1)\n",
    "\n",
    "#Foreign-born % Share of Population\n",
    "dfY1['PopFBP_Y1E'] = dfY1.apply(lambda x: (calc.get_pct(x['PopFB_Y1E'],x['DP05_0001E'])),axis=1)\n",
    "dfY1['PopFBP_Y1M'] = dfY1.apply(lambda x: (calc.get_pctmoe(x['PopFB_Y1E'],x['PopFB_Y1M'],\\\n",
    "                                            x['DP05_0001E'],x['DP05_0001M'])),axis=1)\n",
    "dfY1['PopFBP_Y1C'] = dfY1.apply(lambda x: (calc.get_cv(x['PopFBP_Y1E'],x['PopFBP_Y1M'])),axis=1)\n",
    "\n",
    "#Total Labor Force, MOE & CV\n",
    "dfY1['LFTot_Y1E'] = dfY1['DP03_0002E']\n",
    "dfY1['LFTot_Y1M'] = dfY1['DP03_0002M']\n",
    "dfY1['LFTot_Y1C'] = dfY1.apply(lambda x: (calc.get_cv(x['LFTot_Y1E'],x['LFTot_Y1M'])),axis=1)\n",
    "\n",
    "#Prime-age (25-54) Labor Force, MOE & CV\n",
    "dfY1['LF2554_Y1E'] = dfY1.loc[:,LF2554E].sum(axis=1)\n",
    "dfY1['LF2554_Y1M'] = dfY1.apply(lambda x: (calc.get_moe(x[LF2554M])),axis=1)\n",
    "dfY1['LF2554_Y1C'] = dfY1.apply(lambda x: (calc.get_cv(x['LF2554_Y1E'],x['LF2554_Y1M'])),axis=1)\n",
    "\n",
    "#Age 65+ Labor Force, MOE & CV\n",
    "dfY1['LFO65_Y1E'] = dfY1.loc[:,LFO65E].sum(axis=1)\n",
    "dfY1['LFO65_Y1M'] = dfY1.apply(lambda x: (calc.get_moe(x[LFO65M])),axis=1)\n",
    "dfY1['LFO65_Y1C'] = dfY1.apply(lambda x: (calc.get_cv(x['LFO65_Y1E'],x['LFO65_Y1M'])),axis=1)\n",
    "\n",
    "#Total Housing Units\n",
    "dfY1['HouTot_Y1E'] = dfY1['DP04_0001E']\n",
    "dfY1['HouTot_Y1M'] = dfY1['DP04_0001M']\n",
    "dfY1['HouTot_Y1C'] = dfY1.apply(lambda x: (calc.get_cv(x['HouTot_Y1E'],x['HouTot_Y1M'])),axis=1)\n",
    "\n",
    "#Total Housing Units by Tenure - to rename\n",
    "dfY1['HouO_Y1E'] = dfY1['DP04_0046E']\n",
    "dfY1['HouO_Y1M'] = dfY1['DP04_0046M']\n",
    "dfY1['HouO_Y1C'] = dfY1.apply(lambda x: (calc.get_cv(x['HouO_Y1E'],x['HouO_Y1M'])),axis=1)\n",
    "dfY1['HouR_Y1E'] = dfY1['DP04_0047E']\n",
    "dfY1['HouR_Y1M'] = dfY1['DP04_0047M']\n",
    "dfY1['HouR_Y1C'] = dfY1.apply(lambda x: (calc.get_cv(x['HouR_Y1E'],x['HouR_Y1M'])),axis=1)\n",
    "dfY1['HouV_Y1E'] = dfY1['DP04_0003E']\n",
    "dfY1['HouV_Y1M'] = dfY1['DP04_0003M']\n",
    "dfY1['HouV_Y1C'] = dfY1.apply(lambda x: (calc.get_cv(x['HouV_Y1E'],x['HouV_Y1M'])),axis=1)\n",
    "\n",
    "#Total Housing Units by Building Size\n",
    "dfY1['Hou1U_Y1E'] = dfY1.loc[:,Hou1UE].sum(axis=1)\n",
    "dfY1['Hou1U_Y1M'] = dfY1.apply(lambda x: (calc.get_moe(x[Hou1UM])),axis=1)\n",
    "dfY1['Hou1U_Y1C'] = dfY1.apply(lambda x: (calc.get_cv(x['Hou1U_Y1E'],x['Hou1U_Y1M'])),axis=1)\n",
    "\n",
    "dfY1['Hou24U_Y1E'] = dfY1.loc[:,Hou24UE].sum(axis=1)\n",
    "dfY1['Hou24U_Y1M'] = dfY1.apply(lambda x: (calc.get_moe(x[Hou24UM])),axis=1)\n",
    "dfY1['Hou24U_Y1C'] = dfY1.apply(lambda x: (calc.get_cv(x['Hou24U_Y1E'],x['Hou24U_Y1M'])),axis=1)\n",
    "\n",
    "dfY1['Hou5U_Y1E'] = dfY1.loc[:,Hou5UE].sum(axis=1)\n",
    "dfY1['Hou5U_Y1M'] = dfY1.apply(lambda x: (calc.get_moe(x[Hou5UM])),axis=1)\n",
    "dfY1['Hou5U_Y1C'] = dfY1.apply(lambda x: (calc.get_cv(x['Hou5U_Y1E'],x['Hou5U_Y1M'])),axis=1)"
   ]
  },
  {
   "cell_type": "code",
   "execution_count": null,
   "metadata": {
    "scrolled": true
   },
   "outputs": [],
   "source": [
    "coY1 = dfY1.drop(var_data_Y1[1:],axis=1)\n",
    "coY1.head()"
   ]
  },
  {
   "cell_type": "markdown",
   "metadata": {},
   "source": [
    "## Labor Force Init Year (Year 0)"
   ]
  },
  {
   "cell_type": "code",
   "execution_count": null,
   "metadata": {},
   "outputs": [],
   "source": [
    "co_5 = get_acs(year0,acs5,b=col_5_b,d=col_5_d)\n",
    "co_5.head()"
   ]
  },
  {
   "cell_type": "code",
   "execution_count": null,
   "metadata": {},
   "outputs": [],
   "source": [
    "dfY0 = clean_data(co_5,var_data_Y0)"
   ]
  },
  {
   "cell_type": "code",
   "execution_count": null,
   "metadata": {},
   "outputs": [],
   "source": [
    "#2010 Population & Labor Force calculations - FINAL TABLE\n",
    "#Total Labor Force, MOE & CV\n",
    "dfY0['LFTot_Y0E'] = dfY0['DP03_0002E']\n",
    "dfY0['LFTot_Y0M'] = dfY0['DP03_0002M']\n",
    "dfY0['LFTot_Y0C'] = dfY0.apply(lambda x: (calc.get_cv(x['LFTot_Y0E'],x['LFTot_Y0M'])),axis=1)\n",
    "\n",
    "#Prime-age (25-54) Labor Force, MOE & CV\n",
    "dfY0['LF2554_Y0E'] = dfY0.loc[:,LF2554E].sum(axis=1)\n",
    "dfY0['LF2554_Y0M'] = dfY0.apply(lambda x: (calc.get_moe(x[LF2554M])),axis=1)\n",
    "dfY0['LF2554_Y0C'] = dfY0.apply(lambda x: (calc.get_cv(x['LF2554_Y0E'],x['LF2554_Y0M'])),axis=1)\n",
    "\n",
    "#Age 65+ Labor Force, MOE & CV\n",
    "dfY0['LFO65_Y0E'] = dfY0.loc[:,LFO65E].sum(axis=1)\n",
    "dfY0['LFO65_Y0M'] = dfY0.apply(lambda x: (calc.get_moe(x[LFO65M])),axis=1)\n",
    "dfY0['LFO65_Y0C'] = dfY0.apply(lambda x: (calc.get_cv(x['LFO65_Y0E'],x['LFO65_Y0M'])),axis=1)"
   ]
  },
  {
   "cell_type": "code",
   "execution_count": null,
   "metadata": {},
   "outputs": [],
   "source": [
    "coY0 = dfY0.drop(var_data_Y0[1:],axis=1)\n",
    "coY0.head()"
   ]
  },
  {
   "cell_type": "markdown",
   "metadata": {},
   "source": [
    "## Change between 2006-2010 5YR (Year 0) and 2014-2018 5YR (Year 1)"
   ]
  },
  {
   "cell_type": "code",
   "execution_count": null,
   "metadata": {},
   "outputs": [],
   "source": [
    "#Merge Year 1 and Year 0 into table\n",
    "coY0Y1 = pd.merge(df_pep,pd.merge(coY0,coY1,how='left',on='GEO_ID'),how='left',on='GEO_ID')"
   ]
  },
  {
   "cell_type": "code",
   "execution_count": null,
   "metadata": {},
   "outputs": [],
   "source": [
    "coY0Y1"
   ]
  },
  {
   "cell_type": "code",
   "execution_count": null,
   "metadata": {},
   "outputs": [],
   "source": [
    "#Calculate change between Year 1 and Year 0, MOE & CVs\n",
    "#Total Labor Force Change, MOE & CV\n",
    "coY0Y1['LFTot_Y0Y1E'] = coY0Y1.LFTot_Y1E - coY0Y1.LFTot_Y0E\n",
    "coY0Y1['LFTot_Y0Y1M'] = coY0Y1.apply(lambda x: (calc.get_moe([x['LFTot_Y0M'],x['LFTot_Y1M']])),axis=1)\n",
    "coY0Y1['LFTot_Y0Y1C'] = coY0Y1.apply(lambda x: (calc.get_cv(x['LFTot_Y0Y1E'],x['LFTot_Y0Y1M'])),axis=1)\n",
    "\n",
    "#Prime-age (25-54) Labor Force Change, MOE & CV\n",
    "coY0Y1['LF2554_Y0Y1E'] = coY0Y1.LF2554_Y1E - coY0Y1.LF2554_Y0E\n",
    "coY0Y1['LF2554_Y0Y1M'] = coY0Y1.apply(lambda x: (calc.get_moe([x['LF2554_Y0M'],x['LF2554_Y1M']])),axis=1)\n",
    "coY0Y1['LF2554_Y0Y1C'] = coY0Y1.apply(lambda x: (calc.get_cv(x['LF2554_Y0Y1E'],x['LF2554_Y0Y1M'])),axis=1)\n",
    "\n",
    "#Age 65+ Labor Force Change, MOE & CV\n",
    "coY0Y1['LFO65_Y0Y1E'] = coY0Y1.LFO65_Y1E - coY0Y1.LFO65_Y0E\n",
    "coY0Y1['LFO65_Y0Y1M'] = coY0Y1.apply(lambda x: (calc.get_moe([x['LFO65_Y0M'],x['LFO65_Y1M']])),axis=1)\n",
    "coY0Y1['LFO65_Y0Y1C'] = coY0Y1.apply(lambda x: (calc.get_cv(x['LFO65_Y0Y1E'],x['LFO65_Y0Y1M'])),axis=1)\n",
    "\n",
    "#coY0Y1.head()"
   ]
  },
  {
   "cell_type": "code",
   "execution_count": null,
   "metadata": {},
   "outputs": [],
   "source": [
    "coY0Y1"
   ]
  },
  {
   "cell_type": "code",
   "execution_count": null,
   "metadata": {},
   "outputs": [],
   "source": [
    "coY0Y1['stco'] = coY0Y1['GEO_ID'].str[9:]\n",
    "coY0Y1.head()"
   ]
  },
  {
   "cell_type": "markdown",
   "metadata": {},
   "source": [
    "# 31CR Region Geography Tables"
   ]
  },
  {
   "cell_type": "code",
   "execution_count": null,
   "metadata": {},
   "outputs": [],
   "source": [
    "#Read in geography cross-walk file & clean id column for join\n",
    "geo_xwalk = pd.read_excel('../data/31CR_CoxSub.xlsx')\n",
    "geo_xwalk['stco'] = geo_xwalk['stco'].apply(lambda x: '{0:0>5}'.format(x))\n",
    "\n",
    "#geo_reg.head()"
   ]
  },
  {
   "cell_type": "markdown",
   "metadata": {},
   "source": [
    "## County"
   ]
  },
  {
   "cell_type": "code",
   "execution_count": null,
   "metadata": {},
   "outputs": [],
   "source": [
    "#Merge xwalk file to reduce to region counties only & drop unneeded identifiers\n",
    "region_county_1 = geo_xwalk.merge(coY0Y1,on='stco').drop(columns=['st','co','stco_int','reg','subreg','stco_lbl','co_lbl'])"
   ]
  },
  {
   "cell_type": "code",
   "execution_count": null,
   "metadata": {},
   "outputs": [],
   "source": [
    "#calculate population density"
   ]
  },
  {
   "cell_type": "code",
   "execution_count": null,
   "metadata": {
    "scrolled": true
   },
   "outputs": [],
   "source": [
    "#Cleanup for MetroExplorer\n",
    "region_county_1 = region_county_1.drop(columns=['stco']).replace(np.nan,0)\n",
    "region_county_1.set_index('GEO_ID',inplace=True)"
   ]
  },
  {
   "cell_type": "code",
   "execution_count": null,
   "metadata": {},
   "outputs": [],
   "source": [
    "for column_name in region_county_1.columns:\n",
    "    region_county_1.rename(columns={column_name:column_name.replace('Y0',year0[2:]).replace('Y1',year1[2:])},inplace=True)"
   ]
  },
  {
   "cell_type": "code",
   "execution_count": null,
   "metadata": {
    "scrolled": true
   },
   "outputs": [],
   "source": [
    "region_county_1"
   ]
  },
  {
   "cell_type": "code",
   "execution_count": null,
   "metadata": {},
   "outputs": [],
   "source": [
    "region_county_1.columns"
   ]
  },
  {
   "cell_type": "markdown",
   "metadata": {},
   "source": [
    "## Subregion"
   ]
  },
  {
   "cell_type": "code",
   "execution_count": null,
   "metadata": {},
   "outputs": [],
   "source": [
    "#Merge geo info with county-level information before calculating change over time\n",
    "region_subregion_1 = geo_xwalk.merge(coY0Y1,on='stco')\n",
    "region_subregion_1 = region_subregion_1.drop(columns=['stco','st','co','stco_int','reg','stco_lbl','co_lbl','GEO_ID'])\n",
    "region_subregion_1.head()"
   ]
  },
  {
   "cell_type": "code",
   "execution_count": null,
   "metadata": {},
   "outputs": [],
   "source": [
    "region_subregion_1 = geo.calculate_sumgeo(region_subregion_1,'subreg')"
   ]
  },
  {
   "cell_type": "code",
   "execution_count": null,
   "metadata": {},
   "outputs": [],
   "source": [
    "#Final clean up for MetroExplorer\n",
    "region_subregion_1 = region_subregion_1.rename(columns={'subreg':'GEO_ID'}).replace(np.nan,0)\n",
    "region_subregion_1.set_index('GEO_ID',inplace=True)\n",
    "for column_name in region_subregion_1.columns:\n",
    "    region_subregion_1.rename(columns={column_name:column_name.replace('Y0',year0[2:]).replace('Y1',year1[2:])},inplace=True)"
   ]
  },
  {
   "cell_type": "code",
   "execution_count": null,
   "metadata": {},
   "outputs": [],
   "source": [
    "region_subregion_1"
   ]
  },
  {
   "cell_type": "markdown",
   "metadata": {},
   "source": [
    "## Region"
   ]
  },
  {
   "cell_type": "code",
   "execution_count": null,
   "metadata": {},
   "outputs": [],
   "source": [
    "region_region_1 = geo_xwalk.merge(coY0Y1,on='stco')\n",
    "region_region_1 = region_region_1.drop(columns=['stco','st','co','stco_int','subreg','stco_lbl','co_lbl','GEO_ID'])"
   ]
  },
  {
   "cell_type": "code",
   "execution_count": null,
   "metadata": {},
   "outputs": [],
   "source": [
    "region_region_1 = geo.calculate_sumgeo(region_region_1,'reg')"
   ]
  },
  {
   "cell_type": "code",
   "execution_count": null,
   "metadata": {},
   "outputs": [],
   "source": [
    "region_region_1 = region_region_1.rename(columns={'reg':'GEO_ID'}).replace(np.nan,0)\n",
    "region_region_1.set_index('GEO_ID',inplace=True)\n",
    "for column_name in region_region_1.columns:\n",
    "    region_region_1.rename(columns={column_name:column_name.replace('Y0',year0[2:]).replace('Y1',year1[2:])},inplace=True)"
   ]
  },
  {
   "cell_type": "code",
   "execution_count": null,
   "metadata": {},
   "outputs": [],
   "source": [
    "region_region_1"
   ]
  },
  {
   "cell_type": "markdown",
   "metadata": {},
   "source": [
    "# Save as intermediate csvs for later join"
   ]
  },
  {
   "cell_type": "code",
   "execution_count": null,
   "metadata": {},
   "outputs": [],
   "source": [
    "#region_county_lf.to_csv('region_county_lf.csv')"
   ]
  }
 ],
 "metadata": {
  "kernelspec": {
   "display_name": "Python 3",
   "language": "python",
   "name": "python3"
  },
  "language_info": {
   "codemirror_mode": {
    "name": "ipython",
    "version": 3
   },
   "file_extension": ".py",
   "mimetype": "text/x-python",
   "name": "python",
   "nbconvert_exporter": "python",
   "pygments_lexer": "ipython3",
   "version": "3.7.0"
  }
 },
 "nbformat": 4,
 "nbformat_minor": 2
}
