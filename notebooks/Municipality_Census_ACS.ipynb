{
 "cells": [
  {
   "cell_type": "code",
   "execution_count": null,
   "metadata": {},
   "outputs": [],
   "source": [
    "import pandas as pd\n",
    "import json\n",
    "import requests\n",
    "import math\n",
    "import numpy as np"
   ]
  },
  {
   "cell_type": "code",
   "execution_count": null,
   "metadata": {},
   "outputs": [],
   "source": [
    "from API_keys import myCenAPI\n",
    "import utilcalcs as calc\n",
    "import geo_agg as geo\n",
    "from muni_geo_id import PUMA_2018,cousub_2018,placeLI_2018,\\\n",
    "                        cousub_2010,placeLI_2010,stco,state\n",
    "\n",
    "# ADD GEOGRAPHY CSV WITH LAND AREAS TO CALCULATE POPULATION DENSITY!!!!"
   ]
  },
  {
   "cell_type": "markdown",
   "metadata": {},
   "source": [
    "## User-defined parameters"
   ]
  },
  {
   "cell_type": "code",
   "execution_count": null,
   "metadata": {},
   "outputs": [],
   "source": [
    "#Variables and predicates for both start/end years\n",
    "source = 'acs/acs5'\n",
    "\n",
    "col_b = f'group(B23001)' \n",
    "col_d = f'DP05_0001E,DP05_0001M,DP02_0092E,DP02_0092M,DP03_0002E,DP03_0002M,group(DP04)' \n",
    "\n",
    "year1 = '2018'\n",
    "year0 = '2010'"
   ]
  },
  {
   "cell_type": "markdown",
   "metadata": {},
   "source": [
    "### Data download functions"
   ]
  },
  {
   "cell_type": "code",
   "execution_count": null,
   "metadata": {},
   "outputs": [],
   "source": [
    "def get_cousub(year,col_b,col_d,geo_code):\n",
    "    frames1 = []\n",
    "    frames2 = []\n",
    "    for st,co in stco.items():\n",
    "        for i in co:\n",
    "            url = f'https://api.census.gov/data/{year}/{source}?get={col_b}&for=county%20subdivision:*&in=state:{st}%20county:{i}&key={myAPI}'\n",
    "            resp = requests.request('GET', url).content\n",
    "            df = pd.DataFrame(json.loads(resp)[1:])\n",
    "            df.columns = json.loads(resp)[0]\n",
    "            frames1.append(df)\n",
    "    for st,co in stco.items():\n",
    "        for i in co:\n",
    "            url = f'https://api.census.gov/data/{year}/{source}/profile?get={col_d}&for=county%20subdivision:*&in=state:{st}%20county:{i}&key={myAPI}'\n",
    "            resp = requests.request('GET', url).content\n",
    "            df = pd.DataFrame(json.loads(resp)[1:])\n",
    "            df.columns = json.loads(resp)[0]\n",
    "            frames2.append(df)\n",
    "    df_sub = pd.merge(pd.concat(frames1),pd.concat(frames2),how='left',on='GEO_ID')\n",
    "    df_sub = df_sub[df_sub['GEO_ID'].isin(geo_code)]\n",
    "    return df_sub\n",
    "\n",
    "def get_place(year,col_b,col_d,geo_code):\n",
    "    url1 = f'https://api.census.gov/data/{year}/{source}?get={col_b}&for=place:*&in=state:36&key={myAPI}'\n",
    "    resp1 = requests.request('GET', url1).content\n",
    "    df1 = pd.DataFrame(json.loads(resp1)[1:])\n",
    "    df1.columns = json.loads(resp1)[0]\n",
    "    url2 = f'https://api.census.gov/data/{year}/{source}/profile?get={col_d}&for=place:*&in=state:36&key={myAPI}'\n",
    "    resp2 = requests.request('GET', url2).content\n",
    "    df2 = pd.DataFrame(json.loads(resp2)[1:])\n",
    "    df2.columns = json.loads(resp2)[0]\n",
    "    \n",
    "    df_pl = pd.merge(df1,df2,how='left',on='GEO_ID')\n",
    "    df_pl = df_pl[df_pl['GEO_ID'].isin(geo_code)]\n",
    "    return df_pl\n",
    "\n",
    "def get_puma(year,col_b,col_d,geo_code):\n",
    "    url1 = f'https://api.census.gov/data/{year}/{source}?get={col_b}&for=public%20use%20microdata%20area:*&in=state:36&key={myAPI}'\n",
    "    resp1 = requests.request('GET', url1).content\n",
    "    df1 = pd.DataFrame(json.loads(resp1)[1:])\n",
    "    df1.columns = json.loads(resp1)[0]\n",
    "    url2 = f'https://api.census.gov/data/{year}/{source}/profile?get={col_d}&for=public%20use%20microdata%20area:*&in=state:36&key={myAPI}'\n",
    "    resp2 = requests.request('GET', url2).content\n",
    "    df2 = pd.DataFrame(json.loads(resp2)[1:])\n",
    "    df2.columns = json.loads(resp2)[0]\n",
    "    \n",
    "    df_puma = pd.merge(df1,df2,how='left',on='GEO_ID')\n",
    "    df_puma = df_puma[df_puma['GEO_ID'].isin(geo_code)]\n",
    "    return df_puma\n",
    "\n",
    "def clean_data(df,var):\n",
    "    dff = df[var].copy()\n",
    "    var_num = var[1:]\n",
    "    for col in var_num:\n",
    "        dff[col] = dff[col].astype(float)\n",
    "    dff = dff.replace([999999999, 555555555, 333333333, 222222222,\\\n",
    "                    666666666, 888888888, -999999999, -555555555,\\\n",
    "                    -333333333, -222222222, -666666666, -888888888], np.nan)\n",
    "    return dff\n"
   ]
  },
  {
   "cell_type": "markdown",
   "metadata": {},
   "source": [
    "### Variables for table calculations"
   ]
  },
  {
   "cell_type": "code",
   "execution_count": null,
   "metadata": {},
   "outputs": [],
   "source": [
    "#Total Population - to rename\n",
    "PopTot = ['DP05_0001E','DP05_0001M']  #can also use b23001? \n",
    "\n",
    "# POPULATION DENSITY !!!\n",
    "PopDen = ''\n",
    "\n",
    "#Foreign-Born Population - for calculation\n",
    "PopFB = ['DP02_0092E','DP02_0092M']\n",
    "\n",
    "#Tot Labor Force - to rename\n",
    "LFTot = ['DP03_0002E','DP03_0002M']\n",
    "\n",
    "#Age 25 to 54 in Labor Force - to caluclate\n",
    "LF2554E = ['B23001_025E','B23001_032E','B23001_111E','B23001_118E','B23001_039E','B23001_125E','B23001_046E','B23001_132E']\n",
    "LF2554M = ['B23001_025M','B23001_032M','B23001_111M','B23001_118M','B23001_039M','B23001_125M','B23001_046M','B23001_132M']\n",
    "\n",
    "#Age 65+ in Labor Force - to calculate\n",
    "LFO65E = ['B23001_074E','B23001_079E','B23001_084E','B23001_160E','B23001_165E','B23001_170E']\n",
    "LFO65M = ['B23001_074M','B23001_079M','B23001_084M','B23001_160M','B23001_165M','B23001_170M']\n",
    "\n",
    "#Total Housing Units - to rename\n",
    "HouTot = ['DP04_0001E','DP04_0001M']\n",
    "\n",
    "#Total Housing Units by Owner vs. Renter - to rename\n",
    "HouO = ['DP04_0046E','DP04_0046M']\n",
    "HouR = ['DP04_0047E','DP04_0047M']\n",
    "HouV = ['DP04_0003E','DP04_0003M']\n",
    "\n",
    "#Total Housing Units by Building Size - to calculate\n",
    "Hou1UE = ['DP04_0007E','DP04_0008E']\n",
    "Hou1UM = ['DP04_0007M','DP04_0008M']\n",
    "Hou24UE = ['DP04_0009E','DP04_0010E']\n",
    "Hou24UM = ['DP04_0009M','DP04_0010M']\n",
    "Hou5UE = ['DP04_0011E','DP04_0012E','DP04_0013E']\n",
    "Hou5UM = ['DP04_0011M','DP04_0012M','DP04_0013M']\n",
    "\n",
    "HouU = Hou1UE + Hou1UM + Hou24UE + Hou24UM + Hou5UE + Hou5UM\n",
    "\n",
    "\n",
    "#List of all variables used for calculation + total labor force variables - replace the total pop 16+ variables\n",
    "var_data_Y1 = ['GEO_ID'] + PopTot + PopFB + LFTot + LF2554E + LF2554M + LFO65E + LFO65M + HouTot + HouO + HouR + HouV + HouU \n",
    "var_data_Y0 = ['GEO_ID'] + PopTot + LFTot + LF2554E + LF2554M + LFO65E + LFO65M "
   ]
  },
  {
   "cell_type": "markdown",
   "metadata": {},
   "source": [
    "## Pop & Housing for Current [End] Year (Year 1)"
   ]
  },
  {
   "cell_type": "markdown",
   "metadata": {},
   "source": [
    "#### Subdivisions in NY-NJ-CT - Places in LI"
   ]
  },
  {
   "cell_type": "code",
   "execution_count": null,
   "metadata": {},
   "outputs": [],
   "source": [
    "dfY1_sub = get_cousub(year1,col_b,col_d1,cousub_2018)\n",
    "dfY1_pl = get_place(year1,col_b,col_d1,placeLI_2018)\n",
    "dfY1 = pd.concat([dfY1_sub,dfY1_pl],sort=True)\n",
    "dfY1 = clean_data(dfY1,var_data_Y1)\n",
    "#dfY1.head()"
   ]
  },
  {
   "cell_type": "markdown",
   "metadata": {},
   "source": [
    "#### PUMAS for NYC Only - to calculate as Sub-borough Areas"
   ]
  },
  {
   "cell_type": "code",
   "execution_count": null,
   "metadata": {},
   "outputs": [],
   "source": [
    "dfY1_nyc = get_puma(year1,col_b,col_d1,PUMA_2018)\n",
    "dfY1_nyc = clean_data(dfY1_nyc,var_data_Y1)"
   ]
  },
  {
   "cell_type": "code",
   "execution_count": null,
   "metadata": {},
   "outputs": [],
   "source": [
    "#import csv to recode PUMAS to Sub-borough areas\n",
    "geo_xwalk = pd.read_excel('../data/2018_PUMAxSubBor.xlsx') \n",
    "dfY1_nyc = geo_xwalk.merge(dfY1_nyc,on='GEO_ID').drop(columns=['GEO_ID'])"
   ]
  },
  {
   "cell_type": "code",
   "execution_count": null,
   "metadata": {},
   "outputs": [],
   "source": [
    "#Aggregate pumas to sub-borough geos & calc MOEs\n",
    "dfY1_nyc = geo.calc_muni_agg(dfY1_nyc,'SB_ID')\n",
    "dfY1_nyc = dfY1_nyc.rename(columns={'SB_ID':'GEO_ID'})\n",
    "dfY1_nyc.head()"
   ]
  },
  {
   "cell_type": "markdown",
   "metadata": {},
   "source": [
    "#### Combine SubPlace and NYCPUMA Table into Municipality Table for 2018"
   ]
  },
  {
   "cell_type": "code",
   "execution_count": null,
   "metadata": {
    "scrolled": true
   },
   "outputs": [],
   "source": [
    "dfY1 = pd.concat([dfY1,dfY1_nyc],sort=True)\n",
    "dfY1.head()"
   ]
  },
  {
   "cell_type": "markdown",
   "metadata": {},
   "source": [
    "### Calculate Variables for Current Year (Y1)"
   ]
  },
  {
   "cell_type": "code",
   "execution_count": null,
   "metadata": {},
   "outputs": [],
   "source": [
    "#Year 1 (Current Year) ACS calculations - FINAL TABLE\n",
    "#Total Population - rename\n",
    "dfY1['PopTot_Y1E'] = dfY1['DP05_0001E']\n",
    "dfY1['PopTot_Y1M'] = dfY1['DP05_0001M']\n",
    "dfY1['PopTot_Y1C'] = dfY1.apply(lambda x: (calc.get_cv(x['PopTot_Y1E'],x['PopTot_Y1M'])),axis=1)\n",
    "\n",
    "#Population Density - calc & rename\n",
    "#dfY1['PopDen_Y1E'] = dfY1['PopTot_Y1E'] / LAND_AREA #check that this variable is total FB and not total pop\n",
    "#dfY1['PopDen_Y1M'] = dfY1['DP02_0092M']\n",
    "\n",
    "\n",
    "#Foreign-born Population - calc & rename\n",
    "dfY1['PopFB_Y1E'] = dfY1['DP02_0092E'] #check that this variable is total FB and not total pop\n",
    "dfY1['PopFB_Y1M'] = dfY1['DP02_0092M']\n",
    "dfY1['PopFB_Y1C'] = dfY1.apply(lambda x: (calc.get_cv(x['PopFB_Y1E'],x['PopFB_Y1M'])),axis=1)\n",
    "\n",
    "dfY1['PopFBP_Y1E'] = dfY1.apply(lambda x: (calc.get_pct(x['PopFB_Y1E'],x['PopTot_Y1E'])),axis=1)\n",
    "dfY1['PopFBP_Y1M'] = dfY1.apply(lambda x: (calc.get_pctmoe(x['PopFB_Y1E'],x['PopFB_Y1M'],\\\n",
    "                                            x['PopTot_Y1E'],x['PopTot_Y1M'])),axis=1)\n",
    "dfY1['PopFBP_Y1C'] = dfY1.apply(lambda x: (calc.get_cv(x['PopFBP_Y1E'],x['PopFBP_Y1M'])),axis=1)\n",
    "\n",
    "#Total Labor Force, MOE & CV\n",
    "dfY1['LFTot_Y1E'] = dfY1['DP03_0002E']\n",
    "dfY1['LFTot_Y1M'] = dfY1['DP03_0002M']\n",
    "dfY1['LFTot_Y1C'] = dfY1.apply(lambda x: (calc.get_cv(x['LFTot_Y1E'],x['LFTot_Y1M'])),axis=1)\n",
    "\n",
    "#Prime-age (25-54) Labor Force, MOE & CV\n",
    "dfY1['LF2554_Y1E'] = dfY1.loc[:,LF2554E].sum(axis=1)\n",
    "dfY1['LF2554_Y1M'] = dfY1.apply(lambda x: (calc.get_moe(x[LF2554M])),axis=1)\n",
    "dfY1['LF2554_Y1C'] = dfY1.apply(lambda x: (calc.get_cv(x['LF2554_Y1E'],x['LF2554_Y1M'])),axis=1)\n",
    "\n",
    "#Age 65+ Labor Force, MOE & CV\n",
    "dfY1['LFO65_Y1E'] = dfY1.loc[:,LFO65E].sum(axis=1)\n",
    "dfY1['LFO65_Y1M'] = dfY1.apply(lambda x: (calc.get_moe(x[LFO65M])),axis=1)\n",
    "dfY1['LFO65_Y1C'] = dfY1.apply(lambda x: (calc.get_cv(x['LFO65_Y1E'],x['LFO65_Y1M'])),axis=1)\n",
    "\n",
    "#Total Housing Units\n",
    "dfY1['HouTot_Y1E'] = dfY1['DP04_0001E']\n",
    "dfY1['HouTot_Y1M'] = dfY1['DP04_0001M']\n",
    "dfY1['HouTot_Y1C'] = dfY1.apply(lambda x: (calc.get_cv(x['HouTot_Y1E'],x['HouTot_Y1M'])),axis=1)\n",
    "\n",
    "#Total Housing Units by Tenure - to rename\n",
    "dfY1['HouO_Y1E'] = dfY1['DP04_0046E']\n",
    "dfY1['HouO_Y1M'] = dfY1['DP04_0046M']\n",
    "dfY1['HouO_Y1C'] = dfY1.apply(lambda x: (calc.get_cv(x['HouO_Y1E'],x['HouO_Y1M'])),axis=1)\n",
    "dfY1['HouR_Y1E'] = dfY1['DP04_0047E']\n",
    "dfY1['HouR_Y1M'] = dfY1['DP04_0047M']\n",
    "dfY1['HouR_Y1C'] = dfY1.apply(lambda x: (calc.get_cv(x['HouR_Y1E'],x['HouR_Y1M'])),axis=1)\n",
    "dfY1['HouV_Y1E'] = dfY1['DP04_0003E']\n",
    "dfY1['HouV_Y1M'] = dfY1['DP04_0003M']\n",
    "dfY1['HouV_Y1C'] = dfY1.apply(lambda x: (calc.get_cv(x['HouV_Y1E'],x['HouV_Y1M'])),axis=1)\n",
    "\n",
    "#Total Housing Units by Building Size\n",
    "dfY1['Hou1U_Y1E'] = dfY1.loc[:,Hou1UE].sum(axis=1)\n",
    "dfY1['Hou1U_Y1M'] = dfY1.apply(lambda x: (calc.get_moe(x[Hou1UM])),axis=1)\n",
    "dfY1['Hou1U_Y1C'] = dfY1.apply(lambda x: (calc.get_cv(x['Hou1U_Y1E'],x['Hou1U_Y1M'])),axis=1)\n",
    "\n",
    "dfY1['Hou24U_Y1E'] = dfY1.loc[:,Hou24UE].sum(axis=1)\n",
    "dfY1['Hou24U_Y1M'] = dfY1.apply(lambda x: (calc.get_moe(x[Hou24UM])),axis=1)\n",
    "dfY1['Hou24U_Y1C'] = dfY1.apply(lambda x: (calc.get_cv(x['Hou24U_Y1E'],x['Hou24U_Y1M'])),axis=1)\n",
    "\n",
    "dfY1['Hou5U_Y1E'] = dfY1.loc[:,Hou5UE].sum(axis=1)\n",
    "dfY1['Hou5U_Y1M'] = dfY1.apply(lambda x: (calc.get_moe(x[Hou5UM])),axis=1)\n",
    "dfY1['Hou5U_Y1C'] = dfY1.apply(lambda x: (calc.get_cv(x['Hou5U_Y1E'],x['Hou5U_Y1M'])),axis=1)"
   ]
  },
  {
   "cell_type": "code",
   "execution_count": null,
   "metadata": {},
   "outputs": [],
   "source": [
    "munY1 = dfY1.drop(var_data_Y1[1:],axis=1)\n",
    "munY1.head()"
   ]
  },
  {
   "cell_type": "code",
   "execution_count": null,
   "metadata": {},
   "outputs": [],
   "source": [
    "munY1.shape"
   ]
  },
  {
   "cell_type": "code",
   "execution_count": null,
   "metadata": {},
   "outputs": [],
   "source": [
    "#munY1.to_csv('munY1_test.csv')"
   ]
  },
  {
   "cell_type": "markdown",
   "metadata": {},
   "source": [
    "## Pop & Labor Force Init Year (Year 0)"
   ]
  },
  {
   "cell_type": "markdown",
   "metadata": {},
   "source": [
    "#### Subdivisions & Places 2010 (with geo correct)"
   ]
  },
  {
   "cell_type": "code",
   "execution_count": null,
   "metadata": {},
   "outputs": [],
   "source": [
    "dfY0_sub = get_cousub(year0,col_b,col_d,cousub_2010)\n",
    "dfY0_pl = get_place(year0,col_b,col_d,placeLI_2010)\n",
    "dfY0 = pd.concat([dfY0_sub,dfY0_pl],sort=True)\n",
    "dfY0 = clean_data(dfY0,var_data_Y0)\n",
    "#dfY0.head()"
   ]
  },
  {
   "cell_type": "code",
   "execution_count": null,
   "metadata": {},
   "outputs": [],
   "source": [
    "#Recode 2010 geo ids to current GeoIDs\n",
    "#Check 2018 data to make sure no more differences in 2010 recode!!!!!!!!!! clean up this join/csv to get rid of extras\n",
    "xwalk_10 = pd.read_csv('../data/municipalities_10.csv')\n",
    "dfY0 = xwalk_10.merge(dfY0,on='GEO_ID').drop(columns=['GEO_ID','Unnamed: 2','Unnamed: 3','Unnamed: 4',\\\n",
    "                                                     'Unnamed: 5','Unnamed: 6'])\n",
    "dfY0 = dfY0.rename(columns={'GEOID18':'GEO_ID'})\n",
    "dfY0.head()"
   ]
  },
  {
   "cell_type": "code",
   "execution_count": null,
   "metadata": {},
   "outputs": [],
   "source": [
    "dfY0 = geo.calc_muni_agg(dfY0,'GEO_ID')"
   ]
  },
  {
   "cell_type": "code",
   "execution_count": null,
   "metadata": {},
   "outputs": [],
   "source": [
    "dfY0.shape"
   ]
  },
  {
   "cell_type": "markdown",
   "metadata": {},
   "source": [
    "#### NYC PUMAS"
   ]
  },
  {
   "cell_type": "code",
   "execution_count": null,
   "metadata": {},
   "outputs": [],
   "source": [
    "dfY0_nyc = get_puma(year0,col_b,col_d,PUMA_2018)\n",
    "dfY0_nyc = clean_data(dfY0_nyc,var_data_Y0)"
   ]
  },
  {
   "cell_type": "code",
   "execution_count": null,
   "metadata": {},
   "outputs": [],
   "source": [
    "#import csv to recode \n",
    "geo_xwalk = pd.read_excel('../data/2018_PUMAxSubBor.xlsx') \n",
    "dfY0_nyc = geo_xwalk.merge(dfY0_nyc,on='GEO_ID').drop(columns=['GEO_ID'])\n",
    "dfY0_nyc.head()"
   ]
  },
  {
   "cell_type": "code",
   "execution_count": null,
   "metadata": {},
   "outputs": [],
   "source": [
    "#agg pumas to sub-borough areas\n",
    "dfY0_nyc = geo.calc_muni_agg(dfY0_nyc,'SB_ID')\n",
    "dfY0_nyc = dfY0_nyc.rename(columns={'SB_ID':'GEO_ID'})\n",
    "dfY0_nyc.head()"
   ]
  },
  {
   "cell_type": "markdown",
   "metadata": {},
   "source": [
    "#### Join Sub-Place-PUMA"
   ]
  },
  {
   "cell_type": "code",
   "execution_count": null,
   "metadata": {},
   "outputs": [],
   "source": [
    "dfY0 = pd.concat([dfY0,dfY0_nyc],sort=True)\n",
    "dfY0.head()"
   ]
  },
  {
   "cell_type": "markdown",
   "metadata": {},
   "source": [
    "## Calculate Year 0 [Init Year] Variables"
   ]
  },
  {
   "cell_type": "code",
   "execution_count": null,
   "metadata": {},
   "outputs": [],
   "source": [
    "#2010 Population & Labor Force calculations - FINAL TABLE\n",
    "#Total Population - rename\n",
    "dfY0['PopTot_Y0E'] = dfY0['DP05_0001E']\n",
    "dfY0['PopTot_Y0M'] = dfY0['DP05_0001M']\n",
    "dfY0['PopTot_Y0C'] = dfY0.apply(lambda x: (calc.get_cv(x['PopTot_Y0E'],x['PopTot_Y0M'])),axis=1)\n",
    "\n",
    "#Total Labor Force, MOE & CV\n",
    "dfY0['LFTot_Y0E'] = dfY0['DP03_0002E']\n",
    "dfY0['LFTot_Y0M'] = dfY0['DP03_0002M']\n",
    "dfY0['LFTot_Y0C'] = dfY0.apply(lambda x: (calc.get_cv(x['LFTot_Y0E'],x['LFTot_Y0M'])),axis=1)\n",
    "\n",
    "#Prime-age (25-54) Labor Force, MOE & CV\n",
    "dfY0['LF2554_Y0E'] = dfY0.loc[:,LF2554E].sum(axis=1)\n",
    "dfY0['LF2554_Y0M'] = dfY0.apply(lambda x: (calc.get_moe(x[LF2554M])),axis=1)\n",
    "dfY0['LF2554_Y0C'] = dfY0.apply(lambda x: (calc.get_cv(x['LF2554_Y0E'],x['LF2554_Y0M'])),axis=1)\n",
    "\n",
    "#Age 65+ Labor Force, MOE & CV\n",
    "dfY0['LFO65_Y0E'] = dfY0.loc[:,LFO65E].sum(axis=1)\n",
    "dfY0['LFO65_Y0M'] = dfY0.apply(lambda x: (calc.get_moe(x[LFO65M])),axis=1)\n",
    "dfY0['LFO65_Y0C'] = dfY0.apply(lambda x: (calc.get_cv(x['LFO65_Y0E'],x['LFO65_Y0M'])),axis=1)"
   ]
  },
  {
   "cell_type": "code",
   "execution_count": null,
   "metadata": {},
   "outputs": [],
   "source": [
    "muniY0 = dfY0.drop(var_data_Y0[1:],axis=1)\n",
    "muniY0.head()"
   ]
  },
  {
   "cell_type": "markdown",
   "metadata": {},
   "source": [
    "## Change between 2006-2010 5YR (Year 0) and 2014-2018 5YR (Year 1)"
   ]
  },
  {
   "cell_type": "code",
   "execution_count": null,
   "metadata": {},
   "outputs": [],
   "source": [
    "#Merge Year 1 and Year 0 into table\n",
    "muni = pd.merge(muniY0,munY1,how='left',on='GEO_ID')"
   ]
  },
  {
   "cell_type": "code",
   "execution_count": null,
   "metadata": {},
   "outputs": [],
   "source": [
    "#Calculate change between Year 1 and Year 0, MOE & CVs\n",
    "\n",
    "#Total Population Change, MOE & CV\n",
    "muni['PopTot_Y0Y1E'] = muni.PopTot_Y1E - muni.PopTot_Y0E\n",
    "muni['PopTot_Y0Y1M'] = muni.apply(lambda x: (calc.get_moe([x['PopTot_Y0M'],x['PopTot_Y1M']])),axis=1)\n",
    "muni['PopTot_Y0Y1C'] = muni.apply(lambda x: (calc.get_cv(x['PopTot_Y0Y1E'],x['PopTot_Y0Y1M'])),axis=1)\n",
    "\n",
    "#Total Labor Force Change, MOE & CV\n",
    "muni['LFTot_Y0Y1E'] = muni.LFTot_Y1E - muni.LFTot_Y0E\n",
    "muni['LFTot_Y0Y1M'] = muni.apply(lambda x: (calc.get_moe([x['LFTot_Y0M'],x['LFTot_Y1M']])),axis=1)\n",
    "muni['LFTot_Y0Y1C'] = muni.apply(lambda x: (calc.get_cv(x['LFTot_Y0Y1E'],x['LFTot_Y0Y1M'])),axis=1)\n",
    "\n",
    "#Prime-age (25-54) Labor Force Change, MOE & CV\n",
    "muni['LF2554_Y0Y1E'] = muni.LF2554_Y1E - muni.LF2554_Y0E\n",
    "muni['LF2554_Y0Y1M'] = muni.apply(lambda x: (calc.get_moe([x['LF2554_Y0M'],x['LF2554_Y1M']])),axis=1)\n",
    "muni['LF2554_Y0Y1C'] = muni.apply(lambda x: (calc.get_cv(x['LF2554_Y0Y1E'],x['LF2554_Y0Y1M'])),axis=1)\n",
    "\n",
    "#Age 65+ Labor Force Change, MOE & CV\n",
    "muni['LFO65_Y0Y1E'] = muni.LFO65_Y1E - muni.LFO65_Y0E\n",
    "muni['LFO65_Y0Y1M'] = muni.apply(lambda x: (calc.get_moe([x['LFO65_Y0M'],x['LFO65_Y1M']])),axis=1)\n",
    "muni['LFO65_Y0Y1C'] = muni.apply(lambda x: (calc.get_cv(x['LFO65_Y0Y1E'],x['LFO65_Y0Y1M'])),axis=1)"
   ]
  },
  {
   "cell_type": "code",
   "execution_count": null,
   "metadata": {},
   "outputs": [],
   "source": [
    "muni.head()"
   ]
  },
  {
   "cell_type": "markdown",
   "metadata": {},
   "source": [
    "# Save as intermediate csv for later join w/ other muni data"
   ]
  },
  {
   "cell_type": "code",
   "execution_count": null,
   "metadata": {},
   "outputs": [],
   "source": [
    "muni.set_index('GEO_ID',inplace=True)\n",
    "muni = muni.replace(np.nan,0)\n",
    "for column_name in muni.columns:\n",
    "    muni.rename(columns={column_name:column_name.replace('Y0',year0[2:]).replace('Y1',year1[2:])},inplace=True)"
   ]
  },
  {
   "cell_type": "code",
   "execution_count": null,
   "metadata": {},
   "outputs": [],
   "source": [
    "muni.head()"
   ]
  },
  {
   "cell_type": "code",
   "execution_count": null,
   "metadata": {},
   "outputs": [],
   "source": [
    "muni.to_csv('region_muni_intermediate.csv')"
   ]
  }
 ],
 "metadata": {
  "kernelspec": {
   "display_name": "Python 3",
   "language": "python",
   "name": "python3"
  },
  "language_info": {
   "codemirror_mode": {
    "name": "ipython",
    "version": 3
   },
   "file_extension": ".py",
   "mimetype": "text/x-python",
   "name": "python",
   "nbconvert_exporter": "python",
   "pygments_lexer": "ipython3",
   "version": "3.7.0"
  }
 },
 "nbformat": 4,
 "nbformat_minor": 2
}
